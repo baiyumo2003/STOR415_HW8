{
 "cells": [
  {
   "cell_type": "code",
   "execution_count": 37,
   "metadata": {},
   "outputs": [
    {
     "name": "stdout",
     "output_type": "stream",
     "text": [
      "Max 2.8 x[std,scot] + 1.7000000000000002 x[std,johnny] + 1.7999999999999998 x[cho,scot] + 0.7000000000000002 x[cho,johnny] - 0.20000000000000018 x[pri,scot] - 1.2999999999999998 x[pri,johnny] - money[scot] - money[johnny]\n",
      "Subject to\n",
      " PSInf : -0.6 x[std,scot] - 0.6 x[cho,scot] + 0.4 x[pri,scot] ≥ 0.0\n",
      " PJInf : -0.15 x[std,johnny] - 0.15 x[cho,johnny] + 0.85 x[pri,johnny] ≥ 0.0\n",
      " SCSup : 0.8 x[std,scot] - 0.2 x[cho,scot] - 0.2 x[pri,scot] ≤ 0.0\n",
      " SJSup : 0.4 x[std,johnny] - 0.6 x[cho,johnny] - 0.6 x[pri,johnny] ≤ 0.0\n",
      " prodcutInf[scot] : x[std,scot] + x[cho,scot] + x[pri,scot] - 1.25 money[scot] ≤ 1000.0\n",
      " prodcutInf[johnny] : x[std,johnny] + x[cho,johnny] + x[pri,johnny] - 1.25 money[johnny] ≤ 600.0\n",
      " WisConstraint[std] : x[std,scot] + x[std,johnny] ≤ 1200.0\n",
      " WisConstraint[cho] : x[cho,scot] + x[cho,johnny] ≤ 2500.0\n",
      " WisConstraint[pri] : x[pri,scot] + x[pri,johnny] ≤ 2000.0\n",
      " x[std,scot] ≥ 0.0\n",
      " x[cho,scot] ≥ 0.0\n",
      " x[pri,scot] ≥ 0.0\n",
      " x[std,johnny] ≥ 0.0\n",
      " x[cho,johnny] ≥ 0.0\n",
      " x[pri,johnny] ≥ 0.0\n",
      " money[scot] ≥ 0.0\n",
      " money[johnny] ≥ 0.0\n"
     ]
    }
   ],
   "source": [
    "using JuMP\n",
    "#Import HiGHS solver\n",
    "using HiGHS\n",
    "\n",
    "#Create a JuMP model named picframe1 that will be solved using the HiGHS solver\n",
    "wiskey=Model(HiGHS.Optimizer);\n",
    "wistype = [:std,:cho,:pri];\n",
    "blends = [:scot,:johnny];\n",
    "wisAvilable=Dict(zip(wistype,[1200,2500,2000]));\n",
    "wisCost=Dict(zip(wistype,[4,5,7]));\n",
    "demand=Dict(zip(blends,[1000,600]));\n",
    "wisPrice=Dict(zip(blends,[6.8,5.7]));\n",
    "\n",
    "#variable for money spend on advertise and quantity used for each type\n",
    "@variable(wiskey,x[wistype,blends]>=0);\n",
    "@variable(wiskey,money[blends]>=0);\n",
    "\n",
    "#Sup and Inf for specific type of liquor\n",
    "@constraint(wiskey,PSInf,x[:pri,:scot]>=0.6*sum(x[i,:scot] for i in wistype));\n",
    "@constraint(wiskey,SCSup,x[:std,:scot]<=0.2*sum(x[i,:scot] for i in wistype));\n",
    "@constraint(wiskey,PJInf,x[:pri,:johnny]>=0.15*sum(x[i,:johnny] for i in wistype));\n",
    "@constraint(wiskey,SJSup,x[:std,:johnny]<=0.6*sum(x[i,:johnny] for i in wistype));\n",
    "\n",
    "#selling constant with advertise\n",
    "@constraint(wiskey,prodcutInf[j in blends],sum(x[i,j] for i in wistype)<=demand[j]+1.25*money[j]);\n",
    "\n",
    "#avilable liquor\n",
    "@constraint(wiskey, WisConstraint[i in wistype], sum(x[i,j] for j in blends)<=wisAvilable[i]);\n",
    "\n",
    "#Objetive with revenue-cost-money spend on advertise\n",
    "@objective(wiskey,Max, sum(x[i,j] for i in wistype for j in blends)*wisPrice[j]-\n",
    "sum(x[i,j] for i in wistype for j in blends)*wisCost[i]-sum(money[i] for i in blends));\n",
    "\n",
    "\n",
    "print(wiskey);\n"
   ]
  },
  {
   "cell_type": "code",
   "execution_count": 38,
   "metadata": {},
   "outputs": [
    {
     "name": "stdout",
     "output_type": "stream",
     "text": [
      "Presolving model\n",
      "9 rows, 8 cols, 26 nonzeros\n",
      "9 rows, 8 cols, 26 nonzeros\n",
      "Presolve : Reductions: rows 9(-0); columns 8(-0); elements 26(-0)\n",
      "Solving the presolved LP\n",
      "Using EKK dual simplex solver - serial\n",
      "  Iteration        Objective     Infeasibilities num(sum)\n",
      "          0    -1.1199987222e+01 Ph1: 7(10.8); Du: 4(11.2) 0s\n",
      "          7    -1.6133333333e+03 Pr: 0(0) 0s\n",
      "Solving the original LP from the solution after postsolve\n",
      "Model   status      : Optimal\n",
      "Simplex   iterations: 7\n",
      "Objective value     :  1.6133333333e+03\n",
      "HiGHS run time      :          0.00\n",
      "objective_value(wiskey) = 1613.3333333333335\n",
      "value.(x) = 2-dimensional DenseAxisArray{Float64,2,...} with index sets:\n",
      "    Dimension 1, [:std, :cho, :pri]\n",
      "    Dimension 2, [:scot, :johnny]\n",
      "And data, a 3×2 Matrix{Float64}:\n",
      " 199.99999999999997  1000.0\n",
      " 200.00000000000006   416.66666666666674\n",
      " 600.0                250.0\n"
     ]
    }
   ],
   "source": [
    "optimize!(wiskey)\n",
    "@show objective_value(wiskey)\n",
    "@show value.(x);"
   ]
  }
 ],
 "metadata": {
  "kernelspec": {
   "display_name": "Python 3 (ipykernel)",
   "language": "python",
   "name": "python3"
  },
  "language_info": {
   "codemirror_mode": {
    "name": "ipython",
    "version": 3
   },
   "file_extension": ".py",
   "mimetype": "text/x-python",
   "name": "python",
   "nbconvert_exporter": "python",
   "pygments_lexer": "ipython3",
   "version": "3.9.12"
  },
  "vscode": {
   "interpreter": {
    "hash": "31f2aee4e71d21fbe5cf8b01ff0e069b9275f58929596ceb00d14d90e3e16cd6"
   }
  }
 },
 "nbformat": 4,
 "nbformat_minor": 2
}
