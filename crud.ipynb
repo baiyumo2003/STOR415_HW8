{
 "cells": [
  {
   "cell_type": "code",
   "execution_count": 134,
   "metadata": {},
   "outputs": [
    {
     "name": "stdout",
     "output_type": "stream",
     "text": [
      "Min 30 sent[10] + 40 sent[11] + 35 sent[12] + 45 sent[13] + 38 sent[14] + 50 sent[15]\n",
      "Subject to\n",
      " storeUpdate[10] : -stored[10] + stored[11] + sent[10] = 300.0\n",
      " storeUpdate[11] : -stored[11] + stored[12] + sent[11] = 240.0\n",
      " storeUpdate[12] : -stored[12] + stored[13] + sent[12] = 600.0\n",
      " storeUpdate[13] : -stored[13] + stored[14] + sent[13] = 200.0\n",
      " storeUpdate[14] : -stored[14] + stored[15] + sent[14] = 300.0\n",
      " LastSent : -stored[15] + sent[15] = 600.0\n",
      " storeConstarint[10] : stored[10] ≤ 1000.0\n",
      " storeConstarint[11] : stored[11] ≤ 1000.0\n",
      " storeConstarint[12] : stored[12] ≤ 1000.0\n",
      " storeConstarint[13] : stored[13] ≤ 1000.0\n",
      " storeConstarint[14] : stored[14] ≤ 1000.0\n",
      " storeConstarint[15] : stored[15] ≤ 1000.0\n",
      " sentConstarint[10] : sent[10] ≤ 650.0\n",
      " sentConstarint[11] : sent[11] ≤ 650.0\n",
      " sentConstarint[12] : sent[12] ≤ 650.0\n",
      " sentConstarint[13] : sent[13] ≤ 650.0\n",
      " sentConstarint[14] : sent[14] ≤ 650.0\n",
      " sentConstarint[15] : sent[15] ≤ 650.0\n",
      " lastHourStoreBound : stored[15] ≤ 50.0\n",
      " stored[10] ≥ 0.0\n",
      " stored[11] ≥ 0.0\n",
      " stored[12] ≥ 0.0\n",
      " stored[13] ≥ 0.0\n",
      " stored[14] ≥ 0.0\n",
      " stored[15] ≥ 0.0\n",
      " sent[10] ≥ 0.0\n",
      " sent[11] ≥ 0.0\n",
      " sent[12] ≥ 0.0\n",
      " sent[13] ≥ 0.0\n",
      " sent[14] ≥ 0.0\n",
      " sent[15] ≥ 0.0\n"
     ]
    }
   ],
   "source": [
    "using JuMP\n",
    "#Import HiGHS solver\n",
    "using HiGHS\n",
    "\n",
    "#Create a JuMP model named picframe1 that will be solved using the HiGHS solver\n",
    "crud=Model(HiGHS.Optimizer);\n",
    "#index for general time and time except last hour\n",
    "time=[:10,:11,:12,:13,:14,:15];\n",
    "time2=[:10,:11,:12,:13,:14];\n",
    "\n",
    "#price factor\n",
    "production=Dict(zip(time,[300,240,600,200,300,600]));\n",
    "recy=Dict(zip(time,[30,40,35,45,38,50]));\n",
    "\n",
    "#upper bound\n",
    "storeBound=1000;\n",
    "transBound=650;\n",
    "\n",
    "#set variable\n",
    "@variable(crud,stored[time]>=0);\n",
    "@variable(crud,sent[time]>=0);\n",
    "\n",
    "#set bound for requirement\n",
    "@constraint(crud,storeConstarint[i in time],stored[i]<=storeBound);\n",
    "@constraint(crud,sentConstarint[i in time],sent[i]<=transBound);\n",
    "\n",
    "#set bound for the last hour. (The production for last hour+stored waste has to less than \n",
    "#  transportation upper bound )\n",
    "@constraint(crud,lastHourStoreBound,stored[:15]<=transBound-production[:15]);\n",
    "\n",
    "#dynamically update the stored variable except last index;\n",
    "@constraint(crud,storeUpdate[i in time2],stored[i+1]==stored[i]-sent[i]+production[i]);\n",
    "\n",
    "#set the sent amount for last hour\n",
    "@constraint(crud,LastSent,sent[:15]==stored[:15]+production[:15]);\n",
    "\n",
    "#objective with cost\n",
    "@objective(crud,Min,sum(sent[i]*recy[i] for i in time));\n",
    "\n",
    "\n",
    "print(crud)\n"
   ]
  },
  {
   "cell_type": "code",
   "execution_count": 135,
   "metadata": {},
   "outputs": [
    {
     "name": "stdout",
     "output_type": "stream",
     "text": [
      "Presolving model\n",
      "5 rows, 11 cols, 15 nonzeros\n",
      "5 rows, 11 cols, 15 nonzeros\n",
      "Presolve : Reductions: rows 5(-14); columns 11(-1); elements 15(-15)\n",
      "Solving the presolved LP\n",
      "Using EKK dual simplex solver - serial\n",
      "  Iteration        Objective     Infeasibilities num(sum)\n",
      "          0     3.0000000000e+04 Pr: 5(1640) 0s\n",
      "          7     8.8050000000e+04 Pr: 0(0) 0s\n",
      "Solving the original LP from the solution after postsolve\n",
      "Model   status      : Optimal\n",
      "Simplex   iterations: 7\n",
      "Objective value     :  8.8050000000e+04\n",
      "HiGHS run time      :          0.00\n",
      "objective_value(crud) = 88050.0\n",
      "value.(sent) = 1-dimensional DenseAxisArray{Float64,1,...} with index sets:\n",
      "    Dimension 1, [10, 11, 12, 13, 14, 15]\n",
      "And data, a 6-element Vector{Float64}:\n",
      " 300.0\n",
      "  40.0\n",
      " 650.0\n",
      "   0.0\n",
      " 650.0\n",
      " 600.0\n"
     ]
    }
   ],
   "source": [
    "optimize!(crud);\n",
    "@show objective_value(crud);\n",
    "@show value.(sent);"
   ]
  }
 ],
 "metadata": {
  "kernelspec": {
   "display_name": "Julia 1.8.2",
   "language": "julia",
   "name": "julia-1.8"
  },
  "language_info": {
   "file_extension": ".jl",
   "mimetype": "application/julia",
   "name": "julia",
   "version": "1.8.2"
  },
  "orig_nbformat": 4,
  "vscode": {
   "interpreter": {
    "hash": "31f2aee4e71d21fbe5cf8b01ff0e069b9275f58929596ceb00d14d90e3e16cd6"
   }
  }
 },
 "nbformat": 4,
 "nbformat_minor": 2
}
