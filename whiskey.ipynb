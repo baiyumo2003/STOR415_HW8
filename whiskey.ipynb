{
 "cells": [
  {
   "cell_type": "code",
   "execution_count": 32,
   "metadata": {},
   "outputs": [
    {
     "ename": "ErrorException",
     "evalue": "Constraints of type MathOptInterface.ScalarQuadraticFunction{Float64}-in-MathOptInterface.LessThan{Float64} are not supported by the solver.\n\nIf you expected the solver to support your problem, you may have an error in your formulation. Otherwise, consider using a different solver.\n\nThe list of available solvers, along with the problem types they support, is available at https://jump.dev/JuMP.jl/stable/installation/#Supported-solvers.",
     "output_type": "error",
     "traceback": [
      "Constraints of type MathOptInterface.ScalarQuadraticFunction{Float64}-in-MathOptInterface.LessThan{Float64} are not supported by the solver.\n",
      "\n",
      "If you expected the solver to support your problem, you may have an error in your formulation. Otherwise, consider using a different solver.\n",
      "\n",
      "The list of available solvers, along with the problem types they support, is available at https://jump.dev/JuMP.jl/stable/installation/#Supported-solvers.\n",
      "\n",
      "Stacktrace:\n",
      "  [1] error(s::String)\n",
      "    @ Base ./error.jl:35\n",
      "  [2] _moi_add_constraint(model::MathOptInterface.Utilities.CachingOptimizer{MathOptInterface.Bridges.LazyBridgeOptimizer{HiGHS.Optimizer}, MathOptInterface.Utilities.UniversalFallback{MathOptInterface.Utilities.Model{Float64}}}, f::MathOptInterface.ScalarQuadraticFunction{Float64}, s::MathOptInterface.LessThan{Float64})\n",
      "    @ JuMP ~/.julia/packages/JuMP/gVq7V/src/constraints.jl:599\n",
      "  [3] add_constraint(model::Model, con::ScalarConstraint{QuadExpr, MathOptInterface.LessThan{Float64}}, name::String)\n",
      "    @ JuMP ~/.julia/packages/JuMP/gVq7V/src/constraints.jl:625\n",
      "  [4] macro expansion\n",
      "    @ ~/.julia/packages/JuMP/gVq7V/src/macros.jl:820 [inlined]\n",
      "  [5] (::var\"#181#182\")(i::Symbol)\n",
      "    @ Main ~/.julia/packages/JuMP/gVq7V/src/Containers/macro.jl:304\n",
      "  [6] #44\n",
      "    @ ~/.julia/packages/JuMP/gVq7V/src/Containers/container.jl:105 [inlined]\n",
      "  [7] iterate\n",
      "    @ ./generator.jl:47 [inlined]\n",
      "  [8] collect(itr::Base.Generator{JuMP.Containers.VectorizedProductIterator{Tuple{Vector{Symbol}}}, JuMP.Containers.var\"#44#45\"{var\"#181#182\"}})\n",
      "    @ Base ./array.jl:787\n",
      "  [9] map(f::Function, A::JuMP.Containers.VectorizedProductIterator{Tuple{Vector{Symbol}}})\n",
      "    @ Base ./abstractarray.jl:2961\n",
      " [10] container(f::Function, indices::JuMP.Containers.VectorizedProductIterator{Tuple{Vector{Symbol}}}, #unused#::Type{JuMP.Containers.DenseAxisArray})\n",
      "    @ JuMP.Containers ~/.julia/packages/JuMP/gVq7V/src/Containers/container.jl:105\n",
      " [11] container(f::Function, indices::JuMP.Containers.VectorizedProductIterator{Tuple{Vector{Symbol}}})\n",
      "    @ JuMP.Containers ~/.julia/packages/JuMP/gVq7V/src/Containers/container.jl:66\n",
      " [12] macro expansion\n",
      "    @ ~/.julia/packages/JuMP/gVq7V/src/macros.jl:138 [inlined]\n",
      " [13] top-level scope\n",
      "    @ ~/Documents/Julia/whiskey.ipynb:25"
     ]
    }
   ],
   "source": [
    "using JuMP\n",
    "#Import HiGHS solver\n",
    "using HiGHS\n",
    "\n",
    "#Create a JuMP model named picframe1 that will be solved using the HiGHS solver\n",
    "wiskey=Model(HiGHS.Optimizer);\n",
    "wistype = [:std,:cho,:pri];\n",
    "blends = [:scot,:johnny];\n",
    "wisAvilable=Dict(zip(wistype,[1200,2500,2000]));\n",
    "wisCost=Dict(zip(wistype,[4,5,7]));\n",
    "demand=Dict(zip(blends,[1000,600]));\n",
    "wisPrice=Dict(zip(blends,[6.8,5.7]));\n",
    "\n",
    "@variable(wiskey,x[wistype,blends]>=0);\n",
    "@variable(wiskey,y[wistype,blends]>=0);\n",
    "@constraint(wiskey,yPSInf,y[:pri,:scot]>=0.6*sum(y[i,:scot] for i in wistype));\n",
    "@constraint(wiskey,ySCSup,y[:std,:scot]<=0.2*sum(y[i,:scot] for i in wistype));\n",
    "@constraint(wiskey,yPJInf,y[:pri,:johnny]>=0.15*sum(y[i,:johnny] for i in wistype));\n",
    "@constraint(wiskey,ySJSup,y[:std,:johnny]<=0.6*sum(y[i,:johnny] for i in wistype));\n",
    "@variable(wiskey,money[blends]>=0);\n",
    "@constraint(wiskey,PSInf,x[:pri,:scot]>=0.6*sum(x[i,:scot] for i in wistype));\n",
    "@constraint(wiskey,SCSup,x[:std,:scot]<=0.2*sum(x[i,:scot] for i in wistype));\n",
    "@constraint(wiskey,PJInf,x[:pri,:johnny]>=0.15*sum(x[i,:johnny] for i in wistype));\n",
    "@constraint(wiskey,SJSup,x[:std,:johnny]<=0.6*sum(x[i,:johnny] for i in wistype));\n",
    "@constraint(wiskey, wisConstraint[i in wistype], sum(x[i,j] for j in blends)+\n",
    "sum(y[i,j]*1.25*money[j] for j in blends)<=wisAvilable[i]);\n",
    "@constraint(wiskey,prodcutInf[j in blends],sum(x[i,j] for i in wistype)<=demand[j]);\n",
    "\n",
    "@objective(wiskey,Max, sum(x[i,j] for i in wistype for j in blends)*wisPrice[j]\n",
    "-sum(x[i,j] for i in wistype for j in blends)*wisCost[i]-sum(money[i] for i in blends)+\n",
    "money[:scot]*1.25*wisPrice[:scot]+money[:johnny]*wisPrice[:johnny]*1.25-sum(money[i] for i in blends));\n",
    "\n",
    "\n",
    "\n",
    "print(wiskey)\n"
   ]
  },
  {
   "cell_type": "code",
   "execution_count": 23,
   "metadata": {},
   "outputs": [
    {
     "name": "stdout",
     "output_type": "stream",
     "text": [
      "Solving LP without presolve or with basis\n",
      "Using EKK dual simplex solver - serial\n",
      "  Iteration        Objective     Infeasibilities num(sum)\n",
      "          0    -1.1624986839e+01 Ph1: 0(0); Du: 2(11.625) 0s\n",
      "          0    -1.1625000000e+01 Ph1: 0(0); Du: 2(11.625) 0s\n",
      "          0     1.4000000000e+03 Pr: 0(0); Du: 2(11.625) 0s\n",
      "Using EKK primal simplex solver\n",
      "  Iteration        Objective     Infeasibilities num(sum)\n",
      "          0     1.4000005374e+03 Pr: 0(0); Du: 2(11.625) 0s\n",
      "          0     1.4000000000e+03 Pr: 0(0); Du: 2(11.625) 0s\n",
      "Model   status      : Unbounded\n",
      "Objective value     :  1.4000000000e+03\n",
      "HiGHS run time      :          0.01\n",
      "objective_value(wiskey) = 6.5\n"
     ]
    },
    {
     "data": {
      "text/plain": [
       "6.5"
      ]
     },
     "metadata": {},
     "output_type": "display_data"
    }
   ],
   "source": [
    "optimize!(wiskey)\n",
    "@show objective_value(wiskey)"
   ]
  }
 ],
 "metadata": {
  "kernelspec": {
   "display_name": "Julia 1.8.2",
   "language": "julia",
   "name": "julia-1.8"
  },
  "language_info": {
   "file_extension": ".jl",
   "mimetype": "application/julia",
   "name": "julia",
   "version": "1.8.2"
  },
  "orig_nbformat": 4,
  "vscode": {
   "interpreter": {
    "hash": "31f2aee4e71d21fbe5cf8b01ff0e069b9275f58929596ceb00d14d90e3e16cd6"
   }
  }
 },
 "nbformat": 4,
 "nbformat_minor": 2
}
