{
 "cells": [
  {
   "cell_type": "code",
   "execution_count": 260,
   "metadata": {},
   "outputs": [
    {
     "name": "stdout",
     "output_type": "stream",
     "text": [
      "Min IT + Customer\n",
      "Subject to\n",
      " constarint6 : -gary + linda = 500.0\n",
      " constarint1 : tom ≥ 30000.0\n",
      " constarint2 : -tom + nina ≥ 8000.0\n",
      " constarint3 : -tom + peter ≥ 8000.0\n",
      " constarint4 : -tom + samir ≥ 8000.0\n",
      " constarint5 : -tom - peter + gary ≥ 0.0\n",
      " constarint7 : -2 tom - 2 peter + nina + samir ≥ 0.0\n",
      " constarint8 : -peter + bob ≥ 0.0\n",
      " constarint9 : -samir + bob ≥ 0.0\n",
      " constarint10 : peter + bob ≥ 75000.0\n",
      " constarint12 : -tom + IT ≥ 0.0\n",
      " constarint13 : -peter + IT ≥ 0.0\n",
      " constarint14 : -nina + IT ≥ 0.0\n",
      " constarint15 : -samir + IT ≥ 0.0\n",
      " constarint16 : -gary + Customer ≥ 0.0\n",
      " constarint17 : -bob + Customer ≥ 0.0\n",
      " constarint18 : -linda + Customer ≥ 0.0\n",
      " constarint11 : -tom - bob + linda ≤ 0.0\n",
      " tom ≥ 0.0\n",
      " peter ≥ 0.0\n",
      " nina ≥ 0.0\n",
      " samir ≥ 0.0\n",
      " gary ≥ 0.0\n",
      " bob ≥ 0.0\n",
      " linda ≥ 0.0\n",
      " IT ≥ 0.0\n",
      " Customer ≥ 0.0\n"
     ]
    }
   ],
   "source": [
    "#Import JuMP package to build an optimization model\n",
    "using JuMP\n",
    "#Import HiGHS solver\n",
    "using HiGHS\n",
    "\n",
    "#Create a JuMP model named picframe1 that will be solved using the HiGHS solver\n",
    "picframe1 = Model(HiGHS.Optimizer);\n",
    "\n",
    "#Add the variables\n",
    "@variable(picframe1,tom>= 0);\n",
    "@variable(picframe1,peter>=0);\n",
    "@variable(picframe1,nina>=0);\n",
    "@variable(picframe1,samir>=0);\n",
    "@variable(picframe1,gary>=0);\n",
    "@variable(picframe1,bob>=0);\n",
    "@variable(picframe1,linda>=0);\n",
    "@variable(picframe1,IT>=0);\n",
    "@variable(picframe1,Customer>=0);\n",
    "\n",
    "#Add constraint\n",
    "\n",
    "@constraint(picframe1, constarint1, tom>=30000);\n",
    "@constraint(picframe1, constarint2, nina>=tom+8000);\n",
    "@constraint(picframe1, constarint3, peter>=tom+8000);\n",
    "@constraint(picframe1, constarint4, samir>=tom+8000);\n",
    "@constraint(picframe1, constarint5, gary>=tom+peter);\n",
    "@constraint(picframe1, constarint6, linda==500+gary);\n",
    "@constraint(picframe1, constarint7, nina+samir>=2*(tom+peter));\n",
    "@constraint(picframe1, constarint8, bob>=peter);\n",
    "@constraint(picframe1, constarint9, bob>=samir);\n",
    "@constraint(picframe1, constarint10, bob+peter>=75000);\n",
    "@constraint(picframe1, constarint11, linda<=bob+tom);\n",
    "\n",
    "#convert problem to convex\n",
    "@constraint(picframe1,constarint12,IT>=tom);\n",
    "@constraint(picframe1,constarint13,IT>=peter);\n",
    "@constraint(picframe1,constarint14,IT>=nina);\n",
    "@constraint(picframe1,constarint15,IT>=samir);\n",
    "@constraint(picframe1,constarint16,Customer>=gary);\n",
    "@constraint(picframe1,constarint17,Customer>=bob);\n",
    "@constraint(picframe1,constarint18,Customer>=linda);\n",
    "\n",
    "#objective function\n",
    "@objective(picframe1,Min,IT+Customer);\n",
    "\n",
    "\n",
    "\n",
    "print(picframe1);"
   ]
  },
  {
   "cell_type": "code",
   "execution_count": 261,
   "metadata": {},
   "outputs": [
    {
     "name": "stdout",
     "output_type": "stream",
     "text": [
      "Presolving model\n",
      "16 rows, 8 cols, 36 nonzeros\n",
      "13 rows, 5 cols, 30 nonzeros\n",
      "6 rows, 4 cols, 13 nonzeros\n",
      "3 rows, 3 cols, 6 nonzeros\n",
      "Presolve : Reductions: rows 3(-15); columns 3(-6); elements 6(-33)\n",
      "Solving the presolved LP\n",
      "Using EKK dual simplex solver - serial\n",
      "  Iteration        Objective     Infeasibilities num(sum)\n",
      "          0     1.0650020661e+05 Pr: 1(60000) 0s\n",
      "          2     1.3650000000e+05 Pr: 0(0) 0s\n",
      "Solving the original LP from the solution after postsolve\n",
      "Model   status      : Optimal\n",
      "Simplex   iterations: 2\n",
      "Objective value     :  1.3650000000e+05\n",
      "HiGHS run time      :          0.00\n",
      "objective_value(picframe1) = 136500.0\n",
      "value(Customer) = 68500.0\n",
      "value(IT) = 68000.0\n"
     ]
    },
    {
     "data": {
      "text/plain": [
       "68000.0"
      ]
     },
     "metadata": {},
     "output_type": "display_data"
    }
   ],
   "source": [
    "optimize!(picframe1);\n",
    "@show objective_value(picframe1);\n",
    "@show value(Customer);\n",
    "@show value(IT)"
   ]
  }
 ],
 "metadata": {
  "kernelspec": {
   "display_name": "Julia 1.8.2",
   "language": "julia",
   "name": "julia-1.8"
  },
  "language_info": {
   "file_extension": ".jl",
   "mimetype": "application/julia",
   "name": "julia",
   "version": "1.8.2"
  },
  "orig_nbformat": 4,
  "vscode": {
   "interpreter": {
    "hash": "31f2aee4e71d21fbe5cf8b01ff0e069b9275f58929596ceb00d14d90e3e16cd6"
   }
  }
 },
 "nbformat": 4,
 "nbformat_minor": 2
}
